{
 "cells": [
  {
   "cell_type": "code",
   "execution_count": 20,
   "id": "c671cd87-c0ac-4418-be53-2e42e22ccc84",
   "metadata": {},
   "outputs": [
    {
     "name": "stderr",
     "output_type": "stream",
     "text": [
      "WARNING:absl:Compiled the loaded model, but the compiled metrics have yet to be built. `model.compile_metrics` will be empty until you train or evaluate the model.\n"
     ]
    },
    {
     "name": "stdout",
     "output_type": "stream",
     "text": [
      "ESC: 종료, S: 저장, R: 리셋\n",
      "Saved to Userdata/user_data.jpg\n",
      "\u001b[1m1/1\u001b[0m \u001b[32m━━━━━━━━━━━━━━━━━━━━\u001b[0m\u001b[37m\u001b[0m \u001b[1m0s\u001b[0m 110ms/step\n",
      "모델 출력값: [0.02757308]\n"
     ]
    }
   ],
   "source": [
    "import cv2\n",
    "import numpy as np\n",
    "import random as r\n",
    "\n",
    "from keras.models import load_model\n",
    "import keras\n",
    "from keras.preprocessing.image import load_img, img_to_array\n",
    "\n",
    "# 좌표용 전역변수 설정\n",
    "old_x = old_y = -1\n",
    "# 모델 불러오기\n",
    "model = load_model(\"IMS_CNN_test.h5\")\n",
    "# 모델이 예측한 정답\n",
    "choiced = \"\"\n",
    "\n",
    "# 이미지 예측\n",
    "def predict_image(path):\n",
    "    global choiced\n",
    "    img = load_img(path, target_size=(128, 128), color_mode='grayscale')\n",
    "    x = img_to_array(img) / 255.0\n",
    "    x = np.reshape(x, (1, 128, 128, 1))\n",
    "    pred = model.predict(x)\n",
    "    print(\"모델 출력값:\", pred[0])\n",
    "    if pred >= 0.5:\n",
    "        choiced = \"X!!\"\n",
    "    else:\n",
    "        choiced = \"O!!\"\n",
    "\n",
    "\n",
    "# 마우스 이벤트(선 그리기)\n",
    "def on_mouse(event, x, y, flags, param):\n",
    "    if event == cv2.EVENT_LBUTTONDOWN:\n",
    "        global old_x, old_y # 전역변수로 받아오지 않으면 사용할 수 없음\n",
    "        old_x, old_y = x, y # x, y는 마우스에서 받아온 좌표\n",
    "    elif event == cv2.EVENT_MOUSEMOVE: # 마우스가 움직일 때 발생\n",
    "        if flags & cv2.EVENT_FLAG_LBUTTON: # ==를 쓰면 다른 키도 입력될수 있음\n",
    "            cv2.line(img, (old_x, old_y), (x, y), (0, 0, 0), 4, cv2.LINE_AA)\n",
    "            cv2.imshow(window_name, img)\n",
    "            old_x, old_y = x, y # 이전 좌표를 업데이트 안하면 중앙에서 마우스 위치로 직선이 그려짐\n",
    "\n",
    "window_name = \"Draw O/X - Save: S, Reset: R, ESC: Exit\"\n",
    "path = 'Userdata/user_data.jpg'\n",
    "\n",
    "# 데이터셋에 맞게 300*300, 흰색 배경의 캔버스\n",
    "img = np.ones((300, 300, 3), dtype=np.uint8) * 255\n",
    "dest_img = img.copy() # 깊은 복사여야만 사용 가능\n",
    "\n",
    "cv2.namedWindow(window_name)\n",
    "cv2.setMouseCallback(window_name, on_mouse, img)\n",
    "\n",
    "cv2.imshow(window_name, img)\n",
    "\n",
    "print(\"ESC: 종료, S: 저장, R: 리셋\")\n",
    "while(True):   \n",
    "    # 마우스 이벤트가 발생하면 on_mouse 함수 실행\n",
    "    # cv2.imshow(window_name, img)\n",
    "    key = cv2.waitKey()\n",
    "    if key == ord('s'):\n",
    "        cv2.imwrite(path, img)\n",
    "        cv2.destroyAllWindows()\n",
    "        print(\"Saved to Userdata/user_data.jpg\")\n",
    "        predict_image(path)\n",
    "        cv2.imshow(f\"Your draw is {choiced}\", img)\n",
    "        key = cv2.waitKey()\n",
    "        if key == ord('r'):\n",
    "            break\n",
    "\n",
    "    elif key == ord('r'):\n",
    "        img = dest_img.copy()\n",
    "        cv2.imshow(window_name, img)\n",
    "\n",
    "    # Esc 키코드: 27\n",
    "    elif key == 27:\n",
    "        break\n",
    "        \n",
    "cv2.destroyAllWindows()"
   ]
  },
  {
   "cell_type": "code",
   "execution_count": null,
   "id": "6639aedd-4e24-42c9-a6ab-c5e706f57c5d",
   "metadata": {},
   "outputs": [],
   "source": []
  },
  {
   "cell_type": "code",
   "execution_count": null,
   "id": "e0be57cb-5331-43c5-b79d-f8633f691cb1",
   "metadata": {},
   "outputs": [],
   "source": []
  },
  {
   "cell_type": "code",
   "execution_count": null,
   "id": "873e9036-aa3a-4454-8001-7335f5d39553",
   "metadata": {},
   "outputs": [],
   "source": []
  }
 ],
 "metadata": {
  "kernelspec": {
   "display_name": "Python (AI)",
   "language": "python",
   "name": "ai_class"
  },
  "language_info": {
   "codemirror_mode": {
    "name": "ipython",
    "version": 3
   },
   "file_extension": ".py",
   "mimetype": "text/x-python",
   "name": "python",
   "nbconvert_exporter": "python",
   "pygments_lexer": "ipython3",
   "version": "3.10.16"
  }
 },
 "nbformat": 4,
 "nbformat_minor": 5
}
