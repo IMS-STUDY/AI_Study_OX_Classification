{
 "cells": [
  {
   "cell_type": "code",
   "execution_count": 1,
   "id": "e65910db-96c0-4270-b089-8d4e1c730325",
   "metadata": {},
   "outputs": [],
   "source": [
    "import tkinter as tk\n",
    "from tkinter import Canvas\n",
    "import numpy as np\n",
    "from PIL import Image, ImageOps\n",
    "import tensorflow as tf\n",
    "import os\n",
    "import numpy as np\n",
    "import cv2\n",
    "import matplotlib.pyplot as plt\n",
    "import tensorflow as tf\n",
    "import keras\n",
    "from keras import layers\n",
    "import os\n",
    "from sklearn.model_selection import train_test_split\n",
    "from sklearn.model_selection import KFold\n",
    "from sklearn.model_selection import LeaveOneOut\n",
    "from sklearn.metrics import accuracy_score\n",
    "import random\n",
    "from keras.models import load_model"
   ]
  },
  {
   "cell_type": "code",
   "execution_count": 3,
   "id": "01ef870b-0264-46d0-b807-3b5f102702f4",
   "metadata": {},
   "outputs": [],
   "source": [
    "Path_Data = './Dataset/'\n",
    "\n",
    "def load_images():\n",
    "    image_list = [] #이미지 리스트\n",
    "    label_list = [] #클래스 리트트\n",
    "    filename_list = [] #파일이름 리스트\n",
    "    \n",
    "    for imgclass in os.listdir(Path_Data):  #디렉토리안에 있는 모든 파일을 순서대로 읽음\n",
    "        if imgclass.endswith(('png','jpg')): #사진일때 True\n",
    "            img_path = os.path.join(Path_Data,imgclass)\n",
    "            img = cv2.imread(img_path)\n",
    "            if img is None: #이미지가 없을때\n",
    "                continue\n",
    "            img = cv2.resize(img, (300,300))\n",
    "            img = cv2.cvtColor(img,cv2.COLOR_BGR2RGB)\n",
    "            img = img/255.0\n",
    "            label = 1 if 'o' in imgclass.lower() else 0\n",
    "            image_list.append(img)\n",
    "            label_list.append(label)\n",
    "            filename_list.append(imgclass)\n",
    "            \n",
    "    return np.array(image_list,dtype=np.float32), np.array(label_list,dtype=np.int32),filename_list\n",
    "\n",
    "x,y,filenames=load_images()\n",
    "x_train,x_test,y_train,y_test = train_test_split(x,y,test_size=0.2,random_state=None)\n",
    "x_test,x_eval,y_test,y_eval = train_test_split(x_test,y_test,test_size=10/len(x_test),random_state=None)"
   ]
  },
  {
   "cell_type": "code",
   "execution_count": 8,
   "id": "d0f09d2b-fc45-495c-8e00-d7f04b75eff0",
   "metadata": {},
   "outputs": [
    {
     "name": "stderr",
     "output_type": "stream",
     "text": [
      "WARNING:absl:Compiled the loaded model, but the compiled metrics have yet to be built. `model.compile_metrics` will be empty until you train or evaluate the model.\n"
     ]
    },
    {
     "name": "stdout",
     "output_type": "stream",
     "text": [
      "\u001b[1m1/1\u001b[0m \u001b[32m━━━━━━━━━━━━━━━━━━━━\u001b[0m\u001b[37m\u001b[0m \u001b[1m0s\u001b[0m 119ms/step\n",
      "Prediction Score: 1.0000 → Result: O\n"
     ]
    }
   ],
   "source": [
    "# 모델 파일 경로\n",
    "model_path = \"models_loocv.h5\"\n",
    "if not os.path.exists(model_path):\n",
    "    raise FileNotFoundError(f\"Model file '{model_path}' not found. Please check the file path.\")\n",
    "\n",
    "# 모델 로드\n",
    "model = tf.keras.models.load_model(model_path)\n",
    "\n",
    "# tkinter 윈도우 설정\n",
    "root = tk.Tk()\n",
    "root.title(\"O/X Classifier\")\n",
    "\n",
    "canvas_size = 500\n",
    "canvas = Canvas(root, width=canvas_size, height=canvas_size, bg=\"white\")\n",
    "canvas.grid(row=0, column=0, columnspan=2)\n",
    "\n",
    "# 그림 초기화 함수\n",
    "def clear_canvas():\n",
    "    canvas.delete(\"all\")\n",
    "\n",
    "# 캔버스를 이미지로 저장하는 함수\n",
    "def save_canvas_as_image(canvas, filename=\"canvas_image.png\"):\n",
    "    # 캔버스를 새로운 이미지로 변환\n",
    "    img = Image.new(\"RGB\", (canvas_size, canvas_size), \"white\")\n",
    "    draw = ImageDraw.Draw(img)\n",
    "\n",
    "    # 캔버스 위에 그려진 모든 도형 가져오기\n",
    "    for item in canvas.find_all():\n",
    "        x1, y1, x2, y2 = canvas.coords(item)\n",
    "        draw.ellipse([x1, y1, x2, y2], fill=\"black\", outline=\"black\")\n",
    "\n",
    "    # 저장\n",
    "    img.save(filename)\n",
    "\n",
    "# 결과예측 함수\n",
    "def prediction(model, canvas, save_path=\"canvas_image.png\"):\n",
    "    save_canvas_as_image(canvas, save_path)  # 캔버스 내용을 PNG로 저장\n",
    "\n",
    "    # 이미지 전처리\n",
    "    img = Image.open(save_path)\n",
    "    img = img.convert(\"RGB\")\n",
    "    img = ImageOps.invert(img)  # 색상 반전 (검정 바탕 → 흰 바탕)\n",
    "    img = img.resize((300, 300))  # 모델 입력 크기에 맞게 리사이징\n",
    "    img = np.array(img) / 255.0  # 정규화\n",
    "    img = img.reshape(1, 300, 300, 3)  # 모델 입력 차원 맞추기\n",
    "\n",
    "    # 모델 예측\n",
    "    predictions = model.predict(img)\n",
    "    result = \"O\" if predictions[0][0] >= 0.5 else \"X\"\n",
    "\n",
    "    # 결과 표시\n",
    "    result_label.config(text=f\"결과: {result}\")\n",
    "\n",
    "    print(f\"Prediction Score: {predictions[0][0]:.4f} → Result: {result}\")\n",
    "    return result\n",
    "\n",
    "# 마우스 드래그로 그림 그리기\n",
    "def paint(event):\n",
    "    x, y = event.x, event.y\n",
    "    radius = 5\n",
    "    canvas.create_oval(x - radius, y - radius, x + radius, y + radius, fill=\"black\", outline=\"black\")\n",
    "\n",
    "# UI 버튼\n",
    "clear_button = tk.Button(root, text=\"다시 그리기\", command=clear_canvas)\n",
    "clear_button.grid(row=1, column=0)\n",
    "\n",
    "eval_button = tk.Button(root, text=\"평가\", command=lambda: prediction(model, canvas))  # 함수 실행 시 인자 전달\n",
    "eval_button.grid(row=1, column=1)\n",
    "\n",
    "# 결과 표시 라벨\n",
    "result_label = tk.Label(root, text=\"결과: \", font=(\"Arial\", 20))\n",
    "result_label.grid(row=2, column=0, columnspan=2)\n",
    "\n",
    "# 캔버스에 그림 그리기 이벤트 바인딩\n",
    "canvas.bind(\"<B1-Motion>\", paint)\n",
    "\n",
    "root.mainloop()\n"
   ]
  },
  {
   "cell_type": "code",
   "execution_count": 89,
   "id": "67c2ad81-07e0-418c-ae0f-13e62240ce00",
   "metadata": {},
   "outputs": [],
   "source": [
    "# from PIL import Image, ImageOps\n",
    "# import numpy as np\n",
    "\n",
    "# def prediction(model, canvas, save_path=\"canvas_image.png\"):\n",
    "#     # 캔버스 내용을 바로 PNG로 저장\n",
    "#     canvas.update()  # 캔버스 업데이트 (필요할 경우)\n",
    "#     canvas.postscript(file=\"canvas_image.eps\")  # 임시 .eps 파일 저장\n",
    "#     img = Image.open(\"canvas_image.eps\")  # .eps 파일 열기\n",
    "    \n",
    "#     # PNG로 저장 (eps를 거치지 않으려면 직접 캡처 방식 사용)\n",
    "#     img = img.convert(\"RGB\")  \n",
    "#     img.save(save_path, format=\"PNG\")  # PNG 또는 JPG 저장 가능\n",
    "\n",
    "#     # 이미지 전처리\n",
    "#     img = Image.open(save_path)\n",
    "#     img = img.convert(\"RGB\")\n",
    "#     img = ImageOps.invert(img)  # 색상 반전 (검정 바탕 -> 흰 바탕)\n",
    "#     img = img.resize((300, 300))  # 모델 입력 크기에 맞게 리사이징\n",
    "#     img = np.array(img) / 255.0  # 정규화\n",
    "#     img = img.reshape(1, 300, 300, 3)  # 모델 입력 차원 맞추기\n",
    "\n",
    "#     # 모델 예측\n",
    "#     predictions = model.predict(img)\n",
    "#     result = \"O\" if predictions[0][0] >= 0.5 else \"X\"\n",
    "\n",
    "#     print(f\"Prediction Score: {predictions[0][0]:.4f} → Result: {result}\")\n",
    "#     return result\n"
   ]
  },
  {
   "cell_type": "code",
   "execution_count": 85,
   "id": "ea6bfae6-af70-48e3-b92c-43d467f5679c",
   "metadata": {
    "collapsed": true,
    "jupyter": {
     "outputs_hidden": true
    }
   },
   "outputs": [
    {
     "name": "stderr",
     "output_type": "stream",
     "text": [
      "WARNING:absl:Compiled the loaded model, but the compiled metrics have yet to be built. `model.compile_metrics` will be empty until you train or evaluate the model.\n"
     ]
    },
    {
     "name": "stdout",
     "output_type": "stream",
     "text": [
      "Prediction Score: 1.0000 → Result: O\n"
     ]
    }
   ],
   "source": [
    "# # 모델 파일 경로\n",
    "# model_path = 'models_loocv.h5'\n",
    "# # 모델 파일 존재 여부 확인\n",
    "# if not os.path.exists(model_path):\n",
    "#     raise FileNotFoundError(f\"Model file '{model_path}' not found. Please check the file path.\")\n",
    "# # 모델 로드\n",
    "# model = tf.keras.models.load_model(model_path)\n",
    "# # 이미지 파일 경로\n",
    "# img_path = r\"C:\\Users\\JongBeom\\Desktop\\Univ\\LAB_study\\DEEPLEARNING\\Dataset\\O\\o_1.png\"\n",
    "# # 이미지 로드 및 전처리\n",
    "# img = image.load_img(img_path, target_size=(300, 300))  # 모델 입력 크기에 맞춰 조정 (ex: 224x224)\n",
    "# img_array = image.img_to_array(img)  # PIL 이미지 → NumPy 배열 변환\n",
    "# img_array = np.expand_dims(img_array, axis=0)  # 배치 차원 추가 (1, 224, 224, 3)\n",
    "# img_array = img_array / 255.0  # 정규화 (0~1 사이 값)\n",
    "# # 예측 결과 처리\n",
    "# predicted_value = predictions[0][0]  # 첫 번째 샘플의 예측값 (모델 출력이 단일 숫자라고 가정)\n",
    "# result = \"O\" if predicted_value >= 0.5 else \"X\"\n",
    "\n",
    "# # 결과 출력\n",
    "# print(f\"Prediction Score: {predicted_value:.4f} → Result: {result}\")"
   ]
  }
 ],
 "metadata": {
  "kernelspec": {
   "display_name": "Python 3 (ipykernel)",
   "language": "python",
   "name": "python3"
  },
  "language_info": {
   "codemirror_mode": {
    "name": "ipython",
    "version": 3
   },
   "file_extension": ".py",
   "mimetype": "text/x-python",
   "name": "python",
   "nbconvert_exporter": "python",
   "pygments_lexer": "ipython3",
   "version": "3.12.7"
  }
 },
 "nbformat": 4,
 "nbformat_minor": 5
}
